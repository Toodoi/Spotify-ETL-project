{
 "cells": [
  {
   "cell_type": "code",
   "execution_count": 152,
   "metadata": {},
   "outputs": [],
   "source": [
    "import pandas as pd\n",
    "import matplotlib.pyplot as plt\n",
    "import numpy as np\n",
    "from ast import literal_eval\n",
    "from sklearn.preprocessing import MinMaxScaler"
   ]
  },
  {
   "cell_type": "code",
   "execution_count": 153,
   "metadata": {},
   "outputs": [
    {
     "data": {
      "text/html": [
       "<div>\n",
       "<style scoped>\n",
       "    .dataframe tbody tr th:only-of-type {\n",
       "        vertical-align: middle;\n",
       "    }\n",
       "\n",
       "    .dataframe tbody tr th {\n",
       "        vertical-align: top;\n",
       "    }\n",
       "\n",
       "    .dataframe thead th {\n",
       "        text-align: right;\n",
       "    }\n",
       "</style>\n",
       "<table border=\"1\" class=\"dataframe\">\n",
       "  <thead>\n",
       "    <tr style=\"text-align: right;\">\n",
       "      <th></th>\n",
       "      <th>tracks</th>\n",
       "      <th>artists</th>\n",
       "      <th>ids</th>\n",
       "      <th>danceability</th>\n",
       "      <th>energy</th>\n",
       "      <th>key</th>\n",
       "      <th>loudness</th>\n",
       "      <th>mode</th>\n",
       "      <th>speechiness</th>\n",
       "      <th>acousticness</th>\n",
       "      <th>instrumentalness</th>\n",
       "      <th>liveness</th>\n",
       "      <th>valence</th>\n",
       "      <th>tempo</th>\n",
       "      <th>feature_vector</th>\n",
       "    </tr>\n",
       "  </thead>\n",
       "  <tbody>\n",
       "    <tr>\n",
       "      <th>0</th>\n",
       "      <td>Norf Norf</td>\n",
       "      <td>Vince Staples</td>\n",
       "      <td>4uQ7wYsuL0DryknoDc11Hk</td>\n",
       "      <td>0.925</td>\n",
       "      <td>0.549</td>\n",
       "      <td>7.0</td>\n",
       "      <td>-6.572</td>\n",
       "      <td>1.0</td>\n",
       "      <td>0.0656</td>\n",
       "      <td>0.39600</td>\n",
       "      <td>0.000154</td>\n",
       "      <td>0.1100</td>\n",
       "      <td>0.0904</td>\n",
       "      <td>100.014</td>\n",
       "      <td>[0.925, 0.549, 7, -6.572, 1, 0.0656, 0.396, 0....</td>\n",
       "    </tr>\n",
       "    <tr>\n",
       "      <th>1</th>\n",
       "      <td>UN DIA (ONE DAY) (Feat. Tainy)</td>\n",
       "      <td>J Balvin</td>\n",
       "      <td>0EhpEsp4L0oRGM0vmeaN5e</td>\n",
       "      <td>0.571</td>\n",
       "      <td>0.693</td>\n",
       "      <td>6.0</td>\n",
       "      <td>-8.234</td>\n",
       "      <td>0.0</td>\n",
       "      <td>0.0545</td>\n",
       "      <td>0.00536</td>\n",
       "      <td>0.000000</td>\n",
       "      <td>0.1730</td>\n",
       "      <td>0.3930</td>\n",
       "      <td>168.169</td>\n",
       "      <td>[0.571, 0.693, 6, -8.234, 0, 0.0545, 0.00536, ...</td>\n",
       "    </tr>\n",
       "    <tr>\n",
       "      <th>2</th>\n",
       "      <td>Prisoner (feat. Dua Lipa)</td>\n",
       "      <td>Miley Cyrus</td>\n",
       "      <td>2Oycxb8QbPkpHTo8ZrmG0B</td>\n",
       "      <td>0.781</td>\n",
       "      <td>0.670</td>\n",
       "      <td>3.0</td>\n",
       "      <td>-3.912</td>\n",
       "      <td>0.0</td>\n",
       "      <td>0.0452</td>\n",
       "      <td>0.01030</td>\n",
       "      <td>0.000000</td>\n",
       "      <td>0.0761</td>\n",
       "      <td>0.5950</td>\n",
       "      <td>127.990</td>\n",
       "      <td>[0.781, 0.67, 3, -3.912, 0, 0.0452, 0.0103, 0,...</td>\n",
       "    </tr>\n",
       "    <tr>\n",
       "      <th>3</th>\n",
       "      <td>Levitating (feat. DaBaby)</td>\n",
       "      <td>Dua Lipa</td>\n",
       "      <td>5nujrmhLynf4yMoMtj8AQF</td>\n",
       "      <td>0.702</td>\n",
       "      <td>0.825</td>\n",
       "      <td>6.0</td>\n",
       "      <td>-3.787</td>\n",
       "      <td>0.0</td>\n",
       "      <td>0.0601</td>\n",
       "      <td>0.00883</td>\n",
       "      <td>0.000000</td>\n",
       "      <td>0.0674</td>\n",
       "      <td>0.9150</td>\n",
       "      <td>102.977</td>\n",
       "      <td>[0.702, 0.825, 6, -3.787, 0, 0.0601, 0.00883, ...</td>\n",
       "    </tr>\n",
       "    <tr>\n",
       "      <th>4</th>\n",
       "      <td>Selfless</td>\n",
       "      <td>The Strokes</td>\n",
       "      <td>2t0wwvR15fc3K1ey8OiOaN</td>\n",
       "      <td>0.538</td>\n",
       "      <td>0.679</td>\n",
       "      <td>4.0</td>\n",
       "      <td>-4.297</td>\n",
       "      <td>1.0</td>\n",
       "      <td>0.0333</td>\n",
       "      <td>0.19100</td>\n",
       "      <td>0.001750</td>\n",
       "      <td>0.0889</td>\n",
       "      <td>0.0888</td>\n",
       "      <td>121.990</td>\n",
       "      <td>[0.538, 0.679, 4, -4.297, 1, 0.0333, 0.191, 0....</td>\n",
       "    </tr>\n",
       "  </tbody>\n",
       "</table>\n",
       "</div>"
      ],
      "text/plain": [
       "                           tracks        artists                     ids  \\\n",
       "0                       Norf Norf  Vince Staples  4uQ7wYsuL0DryknoDc11Hk   \n",
       "1  UN DIA (ONE DAY) (Feat. Tainy)       J Balvin  0EhpEsp4L0oRGM0vmeaN5e   \n",
       "2       Prisoner (feat. Dua Lipa)    Miley Cyrus  2Oycxb8QbPkpHTo8ZrmG0B   \n",
       "3       Levitating (feat. DaBaby)       Dua Lipa  5nujrmhLynf4yMoMtj8AQF   \n",
       "4                        Selfless    The Strokes  2t0wwvR15fc3K1ey8OiOaN   \n",
       "\n",
       "   danceability  energy  key  loudness  mode  speechiness  acousticness  \\\n",
       "0         0.925   0.549  7.0    -6.572   1.0       0.0656       0.39600   \n",
       "1         0.571   0.693  6.0    -8.234   0.0       0.0545       0.00536   \n",
       "2         0.781   0.670  3.0    -3.912   0.0       0.0452       0.01030   \n",
       "3         0.702   0.825  6.0    -3.787   0.0       0.0601       0.00883   \n",
       "4         0.538   0.679  4.0    -4.297   1.0       0.0333       0.19100   \n",
       "\n",
       "   instrumentalness  liveness  valence    tempo  \\\n",
       "0          0.000154    0.1100   0.0904  100.014   \n",
       "1          0.000000    0.1730   0.3930  168.169   \n",
       "2          0.000000    0.0761   0.5950  127.990   \n",
       "3          0.000000    0.0674   0.9150  102.977   \n",
       "4          0.001750    0.0889   0.0888  121.990   \n",
       "\n",
       "                                      feature_vector  \n",
       "0  [0.925, 0.549, 7, -6.572, 1, 0.0656, 0.396, 0....  \n",
       "1  [0.571, 0.693, 6, -8.234, 0, 0.0545, 0.00536, ...  \n",
       "2  [0.781, 0.67, 3, -3.912, 0, 0.0452, 0.0103, 0,...  \n",
       "3  [0.702, 0.825, 6, -3.787, 0, 0.0601, 0.00883, ...  \n",
       "4  [0.538, 0.679, 4, -4.297, 1, 0.0333, 0.191, 0....  "
      ]
     },
     "execution_count": 153,
     "metadata": {},
     "output_type": "execute_result"
    }
   ],
   "source": [
    "df = pd.read_csv('spotify_df')\n",
    "df.head()"
   ]
  },
  {
   "cell_type": "code",
   "execution_count": 154,
   "metadata": {
    "scrolled": true
   },
   "outputs": [],
   "source": [
    "df = df.drop(['mode', 'instrumentalness', 'speechiness', 'liveness'], axis=1)\n",
    "df = df.drop_duplicates('tracks')\n",
    "df = df.drop(df.index[106:114])"
   ]
  },
  {
   "cell_type": "code",
   "execution_count": 157,
   "metadata": {},
   "outputs": [
    {
     "data": {
      "image/png": "[encoded data removed]",
      "text/plain": [
       "<Figure size 432x288 with 9 Axes>"
      ]
     },
     "metadata": {
      "needs_background": "light"
     },
     "output_type": "display_data"
    }
   ],
   "source": [
    "df.hist()\n",
    "plt.show()"
   ]
  },
  {
   "cell_type": "code",
   "execution_count": 47,
   "metadata": {},
   "outputs": [],
   "source": [
    "def cos_sim(a, b):\n",
    "    dot_product = np.dot(a, b)\n",
    "    norm_a = np.linalg.norm(a)\n",
    "    norm_b = np.linalg.norm(b)\n",
    "    \n",
    "    return dot_product / (norm_a * norm_b)"
   ]
  },
  {
   "cell_type": "code",
   "execution_count": 144,
   "metadata": {},
   "outputs": [],
   "source": [
    "features = df[['danceability', 'energy', 'key', 'loudness', 'acousticness', 'valence', 'tempo']]"
   ]
  },
  {
   "cell_type": "code",
   "execution_count": 142,
   "metadata": {},
   "outputs": [],
   "source": [
    "norm = MinMaxScaler().fit(features)\n",
    "vec_norm = norm.transform(features)"
   ]
  },
  {
   "cell_type": "code",
   "execution_count": 161,
   "metadata": {},
   "outputs": [],
   "source": [
    "sim_list = []\n",
    "idx_list = []\n",
    "\n",
    "for first_vector in range(0, 106):\n",
    "    for second_vector in range(first_vector, 105):\n",
    "        sim = cos_sim(train_norm[first_vector], train_norm[second_vector+1])\n",
    "        sim_list.append(sim)\n",
    "        idx_list.append((first_vector,second_vector+1))\n"
   ]
  },
  {
   "cell_type": "code",
   "execution_count": 176,
   "metadata": {},
   "outputs": [],
   "source": [
    "df2 = pd.DataFrame({'Similarity' : sim_list, 'Indexes': idx_list})"
   ]
  },
  {
   "cell_type": "code",
   "execution_count": 179,
   "metadata": {},
   "outputs": [
    {
     "data": {
      "text/plain": [
       "<AxesSubplot:>"
      ]
     },
     "execution_count": 179,
     "metadata": {},
     "output_type": "execute_result"
    },
    {
     "data": {
      "image/png": "[encoded data removed]",
      "text/plain": [
       "<Figure size 432x288 with 1 Axes>"
      ]
     },
     "metadata": {
      "needs_background": "light"
     },
     "output_type": "display_data"
    }
   ],
   "source": [
    "df2.Similarity.hist()"
   ]
  },
  {
   "cell_type": "code",
   "execution_count": 184,
   "metadata": {},
   "outputs": [
    {
     "data": {
      "text/html": [
       "<div>\n",
       "<style scoped>\n",
       "    .dataframe tbody tr th:only-of-type {\n",
       "        vertical-align: middle;\n",
       "    }\n",
       "\n",
       "    .dataframe tbody tr th {\n",
       "        vertical-align: top;\n",
       "    }\n",
       "\n",
       "    .dataframe thead th {\n",
       "        text-align: right;\n",
       "    }\n",
       "</style>\n",
       "<table border=\"1\" class=\"dataframe\">\n",
       "  <thead>\n",
       "    <tr style=\"text-align: right;\">\n",
       "      <th></th>\n",
       "      <th>Similarity</th>\n",
       "      <th>Indexes</th>\n",
       "    </tr>\n",
       "  </thead>\n",
       "  <tbody>\n",
       "    <tr>\n",
       "      <th>769</th>\n",
       "      <td>0.999197</td>\n",
       "      <td>(7, 63)</td>\n",
       "    </tr>\n",
       "  </tbody>\n",
       "</table>\n",
       "</div>"
      ],
      "text/plain": [
       "     Similarity  Indexes\n",
       "769    0.999197  (7, 63)"
      ]
     },
     "execution_count": 184,
     "metadata": {},
     "output_type": "execute_result"
    }
   ],
   "source": [
    "df2[df2.Similarity > 0.999]"
   ]
  },
  {
   "cell_type": "code",
   "execution_count": 194,
   "metadata": {},
   "outputs": [
    {
     "data": {
      "text/html": [
       "<div>\n",
       "<style scoped>\n",
       "    .dataframe tbody tr th:only-of-type {\n",
       "        vertical-align: middle;\n",
       "    }\n",
       "\n",
       "    .dataframe tbody tr th {\n",
       "        vertical-align: top;\n",
       "    }\n",
       "\n",
       "    .dataframe thead th {\n",
       "        text-align: right;\n",
       "    }\n",
       "</style>\n",
       "<table border=\"1\" class=\"dataframe\">\n",
       "  <thead>\n",
       "    <tr style=\"text-align: right;\">\n",
       "      <th></th>\n",
       "      <th>tracks</th>\n",
       "      <th>artists</th>\n",
       "      <th>ids</th>\n",
       "      <th>danceability</th>\n",
       "      <th>energy</th>\n",
       "      <th>key</th>\n",
       "      <th>loudness</th>\n",
       "      <th>acousticness</th>\n",
       "      <th>valence</th>\n",
       "      <th>tempo</th>\n",
       "      <th>feature_vector</th>\n",
       "    </tr>\n",
       "  </thead>\n",
       "  <tbody>\n",
       "    <tr>\n",
       "      <th>7</th>\n",
       "      <td>One</td>\n",
       "      <td>Metallica</td>\n",
       "      <td>5IX4TbIR5mMHGE4wiWwKW0</td>\n",
       "      <td>0.437</td>\n",
       "      <td>0.695</td>\n",
       "      <td>7.0</td>\n",
       "      <td>-9.447</td>\n",
       "      <td>0.001110</td>\n",
       "      <td>0.413</td>\n",
       "      <td>102.178</td>\n",
       "      <td>[0.437, 0.695, 7, -9.447, 1, 0.0617, 0.00111, ...</td>\n",
       "    </tr>\n",
       "    <tr>\n",
       "      <th>63</th>\n",
       "      <td>Jambi</td>\n",
       "      <td>TOOL</td>\n",
       "      <td>2gbPu2QNqhnnqtfK3yyeZ0</td>\n",
       "      <td>0.475</td>\n",
       "      <td>0.831</td>\n",
       "      <td>9.0</td>\n",
       "      <td>-7.419</td>\n",
       "      <td>0.000145</td>\n",
       "      <td>0.521</td>\n",
       "      <td>110.420</td>\n",
       "      <td>[0.475, 0.831, 9, -7.419, 0, 0.0505, 0.000145,...</td>\n",
       "    </tr>\n",
       "  </tbody>\n",
       "</table>\n",
       "</div>"
      ],
      "text/plain": [
       "   tracks    artists                     ids  danceability  energy  key  \\\n",
       "7     One  Metallica  5IX4TbIR5mMHGE4wiWwKW0         0.437   0.695  7.0   \n",
       "63  Jambi       TOOL  2gbPu2QNqhnnqtfK3yyeZ0         0.475   0.831  9.0   \n",
       "\n",
       "    loudness  acousticness  valence    tempo  \\\n",
       "7     -9.447      0.001110    0.413  102.178   \n",
       "63    -7.419      0.000145    0.521  110.420   \n",
       "\n",
       "                                       feature_vector  \n",
       "7   [0.437, 0.695, 7, -9.447, 1, 0.0617, 0.00111, ...  \n",
       "63  [0.475, 0.831, 9, -7.419, 0, 0.0505, 0.000145,...  "
      ]
     },
     "execution_count": 194,
     "metadata": {},
     "output_type": "execute_result"
    }
   ],
   "source": [
    "df.loc[[7, 63]] #Two tracks with high similarity from two heavy metal bands"
   ]
  },
  {
   "cell_type": "code",
   "execution_count": 214,
   "metadata": {},
   "outputs": [
    {
     "data": {
      "text/html": [
       "<div>\n",
       "<style scoped>\n",
       "    .dataframe tbody tr th:only-of-type {\n",
       "        vertical-align: middle;\n",
       "    }\n",
       "\n",
       "    .dataframe tbody tr th {\n",
       "        vertical-align: top;\n",
       "    }\n",
       "\n",
       "    .dataframe thead th {\n",
       "        text-align: right;\n",
       "    }\n",
       "</style>\n",
       "<table border=\"1\" class=\"dataframe\">\n",
       "  <thead>\n",
       "    <tr style=\"text-align: right;\">\n",
       "      <th></th>\n",
       "      <th>Similarity</th>\n",
       "      <th>Indexes</th>\n",
       "    </tr>\n",
       "  </thead>\n",
       "  <tbody>\n",
       "    <tr>\n",
       "      <th>4094</th>\n",
       "      <td>0.196504</td>\n",
       "      <td>(51, 66)</td>\n",
       "    </tr>\n",
       "    <tr>\n",
       "      <th>4622</th>\n",
       "      <td>0.164423</td>\n",
       "      <td>(62, 66)</td>\n",
       "    </tr>\n",
       "  </tbody>\n",
       "</table>\n",
       "</div>"
      ],
      "text/plain": [
       "      Similarity   Indexes\n",
       "4094    0.196504  (51, 66)\n",
       "4622    0.164423  (62, 66)"
      ]
     },
     "execution_count": 214,
     "metadata": {},
     "output_type": "execute_result"
    }
   ],
   "source": [
    "df2[df2.Similarity < 0.20]"
   ]
  },
  {
   "cell_type": "code",
   "execution_count": 216,
   "metadata": {},
   "outputs": [
    {
     "data": {
      "text/html": [
       "<div>\n",
       "<style scoped>\n",
       "    .dataframe tbody tr th:only-of-type {\n",
       "        vertical-align: middle;\n",
       "    }\n",
       "\n",
       "    .dataframe tbody tr th {\n",
       "        vertical-align: top;\n",
       "    }\n",
       "\n",
       "    .dataframe thead th {\n",
       "        text-align: right;\n",
       "    }\n",
       "</style>\n",
       "<table border=\"1\" class=\"dataframe\">\n",
       "  <thead>\n",
       "    <tr style=\"text-align: right;\">\n",
       "      <th></th>\n",
       "      <th>tracks</th>\n",
       "      <th>artists</th>\n",
       "      <th>ids</th>\n",
       "      <th>danceability</th>\n",
       "      <th>energy</th>\n",
       "      <th>key</th>\n",
       "      <th>loudness</th>\n",
       "      <th>acousticness</th>\n",
       "      <th>valence</th>\n",
       "      <th>tempo</th>\n",
       "      <th>feature_vector</th>\n",
       "    </tr>\n",
       "  </thead>\n",
       "  <tbody>\n",
       "    <tr>\n",
       "      <th>62</th>\n",
       "      <td>White Unicorn</td>\n",
       "      <td>Wolfmother</td>\n",
       "      <td>3HODMfgPVIrlW9K5O3OW3s</td>\n",
       "      <td>0.351</td>\n",
       "      <td>0.797</td>\n",
       "      <td>0.0</td>\n",
       "      <td>-4.099</td>\n",
       "      <td>0.000589</td>\n",
       "      <td>0.394</td>\n",
       "      <td>106.502</td>\n",
       "      <td>[0.351, 0.797, 0, -4.099, 1, 0.0345, 0.000589,...</td>\n",
       "    </tr>\n",
       "    <tr>\n",
       "      <th>66</th>\n",
       "      <td>Sleepy</td>\n",
       "      <td>Spencer Hunt</td>\n",
       "      <td>6MRALa6nFdIjr9Z8Njf7sT</td>\n",
       "      <td>0.748</td>\n",
       "      <td>0.119</td>\n",
       "      <td>9.0</td>\n",
       "      <td>-21.550</td>\n",
       "      <td>0.877000</td>\n",
       "      <td>0.038</td>\n",
       "      <td>120.061</td>\n",
       "      <td>[0.748, 0.119, 9, -21.55, 1, 0.0902, 0.877, 0....</td>\n",
       "    </tr>\n",
       "  </tbody>\n",
       "</table>\n",
       "</div>"
      ],
      "text/plain": [
       "           tracks       artists                     ids  danceability  energy  \\\n",
       "62  White Unicorn    Wolfmother  3HODMfgPVIrlW9K5O3OW3s         0.351   0.797   \n",
       "66         Sleepy  Spencer Hunt  6MRALa6nFdIjr9Z8Njf7sT         0.748   0.119   \n",
       "\n",
       "    key  loudness  acousticness  valence    tempo  \\\n",
       "62  0.0    -4.099      0.000589    0.394  106.502   \n",
       "66  9.0   -21.550      0.877000    0.038  120.061   \n",
       "\n",
       "                                       feature_vector  \n",
       "62  [0.351, 0.797, 0, -4.099, 1, 0.0345, 0.000589,...  \n",
       "66  [0.748, 0.119, 9, -21.55, 1, 0.0902, 0.877, 0....  "
      ]
     },
     "execution_count": 216,
     "metadata": {},
     "output_type": "execute_result"
    }
   ],
   "source": [
    "df.loc[[62, 66]] #The tracks with the least similarity are a low-fi study song and a rock song"
   ]
  },
  {
   "cell_type": "code",
   "execution_count": 218,
   "metadata": {},
   "outputs": [],
   "source": [
    "df.to_csv('spotify_df_mod', index=False)"
   ]
  },
  {
   "cell_type": "code",
   "execution_count": null,
   "metadata": {},
   "outputs": [],
   "source": []
  }
 ],
 "metadata": {
  "kernelspec": {
   "display_name": "Python 3",
   "language": "python",
   "name": "python3"
  },
  "language_info": {
   "codemirror_mode": {
    "name": "ipython",
    "version": 3
   },
   "file_extension": ".py",
   "mimetype": "text/x-python",
   "name": "python",
   "nbconvert_exporter": "python",
   "pygments_lexer": "ipython3",
   "version": "3.8.8"
  }
 },
 "nbformat": 4,
 "nbformat_minor": 4
}
